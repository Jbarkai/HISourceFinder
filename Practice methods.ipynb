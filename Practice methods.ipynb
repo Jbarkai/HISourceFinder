{
 "cells": [
  {
   "cell_type": "code",
   "execution_count": 1,
   "metadata": {},
   "outputs": [],
   "source": [
    "from cube import Cube\n",
    "import numpy as np\n",
    "from random import uniform, sample\n",
    "from matplotlib import pyplot as plt\n",
    "from make_cubes import insert_gal, prep_gal\n",
    "import gc\n",
    "from os import listdir"
   ]
  },
  {
   "cell_type": "markdown",
   "metadata": {},
   "source": [
    "## Load and Visualise Data"
   ]
  },
  {
   "cell_type": "code",
   "execution_count": 2,
   "metadata": {},
   "outputs": [
    {
     "name": "stderr",
     "output_type": "stream",
     "text": [
      "WARNING: FITSFixedWarning: 'unitfix' made the change 'Changed units:\n",
      "  'DEGREE' -> 'deg',\n",
      "  'DEGREE' -> 'deg',\n",
      "  'HZ' -> 'Hz'. [astropy.wcs.wcs]\n",
      "WARNING: FITSFixedWarning: 'spcfix' made the change 'Changed CTYPE3 from 'FREQ-OBS' to 'FREQ', and SPECSYS to 'TOPOCENT' (VELREF=0)'. [astropy.wcs.wcs]\n"
     ]
    },
    {
     "data": {
      "image/png": "[encoded data removed]",
      "text/plain": [
       "<Figure size 432x288 with 2 Axes>"
      ]
     },
     "metadata": {
      "needs_background": "light"
     },
     "output_type": "display_data"
    }
   ],
   "source": [
    "noise_cube = Cube('data/mosaics/1245mosC.derip.fits')\n",
    "noise_cube.load_cube()\n",
    "noise_cube.plot_slice(slice_i=471, sliced=True)\n",
    "cube_header = noise_cube.header\n",
    "cube_data = noise_cube.cube_data\n",
    "# Delete noise cube to free up memory\n",
    "del(noise_cube)\n",
    "gc.collect()\n",
    "dim = (512, 512)\n",
    "empty_cube = np.zeros(cube_data.shape)"
   ]
  },
  {
   "cell_type": "code",
   "execution_count": 3,
   "metadata": {},
   "outputs": [
    {
     "data": {
      "text/plain": [
       "['model1000.fits', 'model1006.fits', 'model900.fits']"
      ]
     },
     "execution_count": 3,
     "metadata": {},
     "output_type": "execute_result"
    }
   ],
   "source": [
    "# Choose a random sample of mock galaxies\n",
    "no_gals = int(uniform(2, 6))\n",
    "gal_dir = 'data/mock_gals'\n",
    "gals = sample([i for i in listdir(gal_dir) if \".fits\" in i], no_gals)\n",
    "# [insert_gal(i, no_gals, gal_dir + \"/\"+f, subcube, cube_header, empty_cube, dim, reproject=True, scale=True) for i, f in enumerate(gals)]\n",
    "gals"
   ]
  },
  {
   "cell_type": "code",
   "execution_count": 4,
   "metadata": {},
   "outputs": [
    {
     "name": "stderr",
     "output_type": "stream",
     "text": [
      "WARNING: FITSFixedWarning: 'unitfix' made the change 'Changed units:\n",
      "  'DEGREE' -> 'deg',\n",
      "  'DEGREE' -> 'deg',\n",
      "  'HZ' -> 'Hz'. [astropy.wcs.wcs]\n",
      "WARNING: FITSFixedWarning: 'celfix' made the change 'Success'. [astropy.wcs.wcs]\n"
     ]
    },
    {
     "name": "stdout",
     "output_type": "stream",
     "text": [
      "66% smoothed"
     ]
    }
   ],
   "source": [
    "smoothed_gals = [prep_gal(\n",
    "    i, no_gals, gal_dir + \"/\"+f, dim, cube_header\n",
    "    ) for i, f in enumerate(gals)]"
   ]
  },
  {
   "cell_type": "code",
   "execution_count": 5,
   "metadata": {},
   "outputs": [
    {
     "name": "stdout",
     "output_type": "stream",
     "text": [
      "66%"
     ]
    },
    {
     "data": {
      "text/plain": [
       "[None, None, None]"
      ]
     },
     "execution_count": 5,
     "metadata": {},
     "output_type": "execute_result"
    }
   ],
   "source": [
    "[insert_gal(i, no_gals, g, cube_data, empty_cube, dim) for i, g in enumerate(smoothed_gals)]"
   ]
  },
  {
   "cell_type": "markdown",
   "metadata": {},
   "source": [
    "# Traditional Methods"
   ]
  },
  {
   "cell_type": "markdown",
   "metadata": {},
   "source": [
    "## Thresholding"
   ]
  },
  {
   "cell_type": "code",
   "execution_count": null,
   "metadata": {
    "scrolled": false
   },
   "outputs": [],
   "source": [
    "masked = source_slice > np.mean(source_slice) + 3*np.std(source_slice)\n",
    "plot_slice(source_slice, hi_data, mask=masked)"
   ]
  },
  {
   "cell_type": "markdown",
   "metadata": {},
   "source": [
    "## Region-based segmentation\n"
   ]
  },
  {
   "cell_type": "code",
   "execution_count": null,
   "metadata": {},
   "outputs": [],
   "source": [
    "elevation_map = filters.sobel(source_slice)\n",
    "markers = np.zeros_like(source_slice)\n",
    "markers[source_slice < 0.001] = 1\n",
    "markers[source_slice > 0.002] = 2\n",
    "segmentated = segmentation.watershed(elevation_map, markers)\n",
    "segmentated = ndi.binary_fill_holes(segmentated - 1)\n",
    "plot_slice(source_slice, hi_data, segmentated)"
   ]
  },
  {
   "cell_type": "markdown",
   "metadata": {},
   "source": [
    "## Edge-based segmentation"
   ]
  },
  {
   "cell_type": "code",
   "execution_count": null,
   "metadata": {},
   "outputs": [],
   "source": [
    "edges = canny(source_slice)\n",
    "fill = ndi.binary_fill_holes(edges)\n",
    "cleaned = morphology.remove_small_objects(fill, 10)\n",
    "plot_slice(source_slice, hi_data, mask=cleaned)"
   ]
  },
  {
   "cell_type": "markdown",
   "metadata": {},
   "source": [
    "# Unspervised Segmentation"
   ]
  },
  {
   "cell_type": "markdown",
   "metadata": {},
   "source": [
    "## K Means Clustering"
   ]
  },
  {
   "cell_type": "code",
   "execution_count": null,
   "metadata": {},
   "outputs": [],
   "source": [
    "# kmeans = KMeans(n_clusters=3, random_state=0).fit(source_slice)\n",
    "# cluster_pic = kmeans.cluster_centers_[kmeans.labels_]\n",
    "# plot_slice(source_slice, hi_data, cluster_pic)"
   ]
  },
  {
   "cell_type": "markdown",
   "metadata": {},
   "source": [
    "## Supervised Learning"
   ]
  },
  {
   "cell_type": "markdown",
   "metadata": {},
   "source": [
    "## Random Forests"
   ]
  }
 ],
 "metadata": {
  "kernelspec": {
   "display_name": "Python 3",
   "language": "python",
   "name": "python3"
  },
  "language_info": {
   "codemirror_mode": {
    "name": "ipython",
    "version": 3
   },
   "file_extension": ".py",
   "mimetype": "text/x-python",
   "name": "python",
   "nbconvert_exporter": "python",
   "pygments_lexer": "ipython3",
   "version": "3.8.7"
  }
 },
 "nbformat": 4,
 "nbformat_minor": 2
}
