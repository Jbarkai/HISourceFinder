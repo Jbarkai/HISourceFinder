{
 "cells": [
  {
   "cell_type": "code",
   "execution_count": null,
   "metadata": {},
   "outputs": [],
   "source": [
    "import sys\n",
    "sys.path.insert(0,'..')\n",
    "from medzoo_imports import create_model, DiceLoss, Trainer\n",
    "from os import listdir\n",
    "from torch.utils.data import DataLoader\n",
    "from sklearn.model_selection import train_test_split\n",
    "from data_generators.data_loader import SegmentationDataSet, sliding_window\n",
    "import torch\n",
    "from astropy.io import fits\n",
    "import numpy as np\n",
    "import matplotlib.pyplot as plt\n",
    "import pandas as pd\n",
    "import torch.backends.cudnn as cudnn"
   ]
  },
  {
   "cell_type": "code",
   "execution_count": 20,
   "metadata": {},
   "outputs": [],
   "source": [
    "batch_size=1\n",
    "dataset_name=\"hi_data\"\n",
    "root = '../'\n",
    "dim=(64, 64, 64)\n",
    "nEpochs=10\n",
    "classes=1\n",
    "inChannels=1\n",
    "terminal_show_freq=50\n",
    "model='VNET'\n",
    "opt='sgd'\n",
    "log_dir='../runs/'\n",
    "lr = 1e-2\n",
    "dims = [128, 128, 64]\n",
    "overlaps = [15, 20, 20]\n",
    "params = {'batch_size': batch_size,\n",
    "          'shuffle': True,\n",
    "          'num_workers': 2}\n",
    "\n",
    "save = ('../saved_models/' + model + '_checkpoints/' + model + '_', dataset_name)[0]"
   ]
  },
  {
   "cell_type": "code",
   "execution_count": 3,
   "metadata": {},
   "outputs": [],
   "source": [
    "# MAKE REPRODUCIBLE\n",
    "torch.manual_seed(42)\n",
    "np.random.seed(42)\n",
    "cudnn.deterministic = True\n",
    "# FOR FASTER GPU TRAINING WHEN INPUT SIZE DOESN'T VARY\n",
    "# LET'S TEST IT\n",
    "cudnn.benchmark = True"
   ]
  },
  {
   "cell_type": "markdown",
   "metadata": {},
   "source": [
    "# Test data loading"
   ]
  },
  {
   "cell_type": "code",
   "execution_count": 5,
   "metadata": {},
   "outputs": [],
   "source": [
    "# dataset training\n",
    "dataset_train = SegmentationDataSet(inputs=['test_cube.fits'],\n",
    "                                    targets=['test_seg.fits'],\n",
    "                                    dims=dims,\n",
    "                                    overlaps=overlaps,\n",
    "                                    load=True,\n",
    "                                    root='./',\n",
    "                                    mode=\"train\")"
   ]
  },
  {
   "cell_type": "markdown",
   "metadata": {},
   "source": [
    "## What the data should look like"
   ]
  },
  {
   "cell_type": "code",
   "execution_count": 8,
   "metadata": {},
   "outputs": [
    {
     "data": {
      "image/png": "[encoded data removed]",
      "text/plain": [
       "<Figure size 432x288 with 1 Axes>"
      ]
     },
     "metadata": {
      "needs_background": "light"
     },
     "output_type": "display_data"
    },
    {
     "data": {
      "image/png": "[encoded data removed]",
      "text/plain": [
       "<Figure size 432x288 with 1 Axes>"
      ]
     },
     "metadata": {
      "needs_background": "light"
     },
     "output_type": "display_data"
    }
   ],
   "source": [
    "getdata = dataset_train.__getitem__(10)\n",
    "view_x, view_y = getdata[0].squeeze().numpy(), getdata[1].squeeze().numpy()\n",
    "plt.imshow(view_x[:, :, 20])\n",
    "plt.show()\n",
    "plt.imshow(view_y[:, :, 20])\n",
    "plt.show()"
   ]
  },
  {
   "cell_type": "markdown",
   "metadata": {},
   "source": [
    "## Loading like the training data was loaded"
   ]
  },
  {
   "cell_type": "code",
   "execution_count": 21,
   "metadata": {},
   "outputs": [
    {
     "data": {
      "text/plain": [
       "torch.Size([1, 1, 128, 128, 64])"
      ]
     },
     "execution_count": 21,
     "metadata": {},
     "output_type": "execute_result"
    }
   ],
   "source": [
    "# dataloader training\n",
    "params = {'batch_size': batch_size,\n",
    "        'shuffle': True,\n",
    "        'num_workers': 2}\n",
    "dataloader_training = DataLoader(dataset=dataset_train, **params)\n",
    "for i, img_tensor in enumerate(dataloader_training):\n",
    "    if i == 11:\n",
    "        data_loader_tensor = img_tensor[0]\n",
    "        data_loader_mask = img_tensor[1]\n",
    "data_loader_mask.shape"
   ]
  },
  {
   "cell_type": "markdown",
   "metadata": {},
   "source": [
    "## Taking just first slice of both extra dimensions"
   ]
  },
  {
   "cell_type": "code",
   "execution_count": 185,
   "metadata": {},
   "outputs": [
    {
     "data": {
      "text/plain": [
       "<matplotlib.image.AxesImage at 0x15e6b5a90>"
      ]
     },
     "execution_count": 185,
     "metadata": {},
     "output_type": "execute_result"
    },
    {
     "data": {
      "image/png": "[encoded data removed]",
      "text/plain": [
       "<Figure size 432x288 with 4 Axes>"
      ]
     },
     "metadata": {
      "needs_background": "light"
     },
     "output_type": "display_data"
    }
   ],
   "source": [
    "fig, axes = plt.subplots(2, 2)\n",
    "axes[0][0].imshow(data_loader_mask.view(1, 128, 128, 64).squeeze()[..., 20])\n",
    "axes[1][0].imshow(data_loader_mask.view(1, 128, 128, 64).squeeze()[..., 20])\n",
    "axes[0][1].imshow(data_loader_tensor[0][0][..., 20])\n",
    "axes[1][1].imshow(data_loader_tensor[0][0][..., 20])"
   ]
  },
  {
   "cell_type": "markdown",
   "metadata": {},
   "source": [
    "## Load pre-trained model"
   ]
  },
  {
   "cell_type": "code",
   "execution_count": 194,
   "metadata": {},
   "outputs": [
    {
     "name": "stdout",
     "output_type": "stream",
     "text": [
      "Building Model . . . . . . . .VNET\n",
      "VNET Number of params: 45599926\n"
     ]
    },
    {
     "data": {
      "text/plain": [
       "2"
      ]
     },
     "execution_count": 194,
     "metadata": {},
     "output_type": "execute_result"
    }
   ],
   "source": [
    "class argsclass:\n",
    "    def __init__(self, model, opt, lr, inChannels, classes, pretrained):\n",
    "        self.model = model\n",
    "        self.opt=opt\n",
    "        self.lr=lr\n",
    "        self.inChannels=1\n",
    "        self.classes=1\n",
    "        self.cuda = False\n",
    "        self.pretrained = pretrained\n",
    "        self.dataset_name = 'hi_source'\n",
    "        self.save = '../inference_checkpoints/' + self.model + '_checkpoints/' + self.model + '_' + self.dataset_name\n",
    "args = argsclass('VNET', 'adam', 1e-2, 1, 1, \"../saved_models/VNET_checkpoints/VNET_/VNET__last_epoch.pth\")\n",
    "model, optimizer = create_model(args)\n",
    "criterion = DiceLoss(classes=args.classes)\n",
    "model.restore_checkpoint(args.pretrained)"
   ]
  },
  {
   "cell_type": "code",
   "execution_count": 182,
   "metadata": {},
   "outputs": [],
   "source": [
    "model.eval()\n",
    "with torch.no_grad():\n",
    "    out = model.inference(data_loader_tensor)\n",
    "full_vol_prediction = out.view(1, 128, 128, 64)\n",
    "_, indices = full_vol_prediction.max(dim=0)"
   ]
  },
  {
   "cell_type": "code",
   "execution_count": 183,
   "metadata": {},
   "outputs": [],
   "source": [
    "out_softmax = torch.softmax(out, dim=1)"
   ]
  },
  {
   "cell_type": "code",
   "execution_count": 184,
   "metadata": {},
   "outputs": [
    {
     "data": {
      "text/plain": [
       "<matplotlib.image.AxesImage at 0x15e5aac40>"
      ]
     },
     "execution_count": 184,
     "metadata": {},
     "output_type": "execute_result"
    },
    {
     "data": {
      "image/png": "[encoded data removed]",
      "text/plain": [
       "<Figure size 432x288 with 5 Axes>"
      ]
     },
     "metadata": {
      "needs_background": "light"
     },
     "output_type": "display_data"
    }
   ],
   "source": [
    "fig, axes = plt.subplots(1, 5)\n",
    "axes[0].imshow(data_loader_mask.squeeze()[..., 20])\n",
    "axes[1].imshow(out.squeeze()[..., 20])\n",
    "axes[2].imshow(out_softmax.squeeze()[..., 20])\n",
    "axes[3].imshow(indices[..., 20])\n",
    "axes[4].imshow(_[..., 20])"
   ]
  },
  {
   "cell_type": "markdown",
   "metadata": {},
   "source": [
    "# Resave better data"
   ]
  },
  {
   "cell_type": "code",
   "execution_count": 144,
   "metadata": {},
   "outputs": [],
   "source": [
    "cube_hdulist = fits.open(\"../data/training/Input/noisefree_1245mosC.fits\")\n",
    "cube_data = cube_hdulist[0].data\n",
    "cube_hdulist.close()\n",
    "\n",
    "maskcube_hdulist = fits.open(\"../data/training/Target/mask_1245mosC.fits\")\n",
    "maskcube_data = maskcube_hdulist[0].data\n",
    "maskcube_hdulist.close()"
   ]
  },
  {
   "cell_type": "code",
   "execution_count": 164,
   "metadata": {},
   "outputs": [],
   "source": [
    "list_z = np.linspace(0, maskcube_data.shape[0], 6)\n",
    "list_x = np.linspace(0, maskcube_data.shape[1], 6)\n",
    "list_y = np.linspace(0, maskcube_data.shape[2], 6)"
   ]
  },
  {
   "cell_type": "code",
   "execution_count": 173,
   "metadata": {},
   "outputs": [
    {
     "name": "stdout",
     "output_type": "stream",
     "text": [
      "noisefree_0.fits noisefree_2.fits noisefree_4.fits\r\n",
      "noisefree_1.fits noisefree_3.fits\r\n"
     ]
    }
   ],
   "source": [
    "! ls ../Input"
   ]
  },
  {
   "cell_type": "code",
   "execution_count": 172,
   "metadata": {},
   "outputs": [],
   "source": [
    "for i in range(5):\n",
    "    new_mask = maskcube_data[int(list_z[i]):int(list_z[i+1]), int(list_x[i]):int(list_x[i+1]), int(list_y[i]):int(list_y[i+1])]\n",
    "    fits.writeto('../Input/noisefree_%s.fits'%i, new_mask, cube_hdulist[0].header, overwrite=True)\n",
    "    new_cube = cube_data[int(list_z[i]):int(list_z[i+1]), int(list_x[i]):int(list_x[i+1]), int(list_y[i]):int(list_y[i+1])]\n",
    "    fits.writeto('../Target/mask_%s.fits'%i, new_cube, cube_hdulist[0].header, overwrite=True)\n",
    "    \n",
    "    "
   ]
  },
  {
   "cell_type": "markdown",
   "metadata": {},
   "source": [
    "## Training Metrics"
   ]
  },
  {
   "cell_type": "code",
   "execution_count": null,
   "metadata": {},
   "outputs": [],
   "source": [
    "df = pd.DataFrame([[\"train\", 1, 0.9984, 0.1560, 0.0016],\n",
    "[\"val\", 1, 0.9835, 1.6542, 0.0165],\n",
    "[\"train\", 2, 0.9984, 0.1560, 0.0016],\n",
    "[\"val\", 2, 0.9834, 1.6566, 0.0166],\n",
    "[\"train\", 3, 0.9984, 0.1560, 0.0016],\n",
    "[\"val\", 3, 0.9834, 1.6583, 0.0166],\n",
    "[\"train\", 4, 0.9984, 0.1558, 0.0016],\n",
    "[\"val\", 4, 0.9834, 1.6643, 0.0166]],\n",
    "            columns=[\"test_train\", \"Epoch\", \"Loss\", \"DSC\", \"gal\"])\n",
    "df"
   ]
  },
  {
   "cell_type": "code",
   "execution_count": null,
   "metadata": {},
   "outputs": [],
   "source": [
    "fig, ((ax1, ax2), (ax3, ax4)) = plt.subplots(2, 2) \n",
    "ax1.plot(df[df.test_train == \"train\"].Epoch, df[df.test_train == \"train\"].Loss)\n",
    "ax2.plot(df[df.test_train == \"val\"].Epoch, df[df.test_train == \"val\"].Loss)\n",
    "\n",
    "ax3.plot(df[df.test_train == \"train\"].Epoch, df[df.test_train == \"train\"].DSC)\n",
    "ax4.plot(df[df.test_train == \"val\"].Epoch, df[df.test_train == \"val\"].DSC)\n",
    "ax3.set_xlabel(\"Epoch\")\n",
    "ax1.set_ylabel(\"Loss\")\n",
    "ax3.set_ylabel(\"DCD\")\n",
    "fig.tight_layout()"
   ]
  },
  {
   "cell_type": "code",
   "execution_count": null,
   "metadata": {},
   "outputs": [],
   "source": []
  }
 ],
 "metadata": {
  "kernelspec": {
   "display_name": "Python 3",
   "language": "python",
   "name": "python3"
  },
  "language_info": {
   "codemirror_mode": {
    "name": "ipython",
    "version": 3
   },
   "file_extension": ".py",
   "mimetype": "text/x-python",
   "name": "python",
   "nbconvert_exporter": "python",
   "pygments_lexer": "ipython3",
   "version": "3.8.7"
  }
 },
 "nbformat": 4,
 "nbformat_minor": 2
}
