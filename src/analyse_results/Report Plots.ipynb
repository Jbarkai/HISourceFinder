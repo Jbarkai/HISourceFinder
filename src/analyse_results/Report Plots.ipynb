{
 "cells": [
  {
   "cell_type": "code",
   "execution_count": 1,
   "metadata": {},
   "outputs": [],
   "source": [
    "import sys\n",
    "sys.path.insert(0,'..')\n",
    "from IPython.display import display, HTML\n",
    "if not sys.warnoptions:\n",
    "    import warnings\n",
    "# import imblearn\n",
    "from collections import Counter\n",
    "from sklearn.preprocessing import LabelEncoder\n",
    "# from imblearn.over_sampling import SMOTE\n",
    "from matplotlib.ticker import PercentFormatter\n",
    "from os import listdir\n",
    "from sklearn.model_selection import train_test_split\n",
    "from sklearn.linear_model import LogisticRegression\n",
    "from sklearn import tree\n",
    "from sklearn.ensemble import RandomForestClassifier\n",
    "from sklearn.svm import SVC\n",
    "from sklearn.neighbors import KNeighborsClassifier\n",
    "from sklearn.naive_bayes import GaussianNB\n",
    "from sklearn import metrics\n",
    "from astropy.wcs import WCS\n",
    "from astropy import units as u\n",
    "from astropy.coordinates import SkyCoord\n",
    "import astropy.constants as const\n",
    "from astropy.cosmology import WMAP9 as cosmo\n",
    "from datetime import datetime\n",
    "from astropy.io import fits\n",
    "import numpy as np\n",
    "import matplotlib.pyplot as plt\n",
    "import pandas as pd\n",
    "import copy\n",
    "from matplotlib.cm import register_cmap\n",
    "# from matplotlib_venn import venn3\n",
    "\n",
    "from numpy.lib.stride_tricks import as_strided\n",
    "import pickle\n",
    "from scipy import stats\n",
    "from datetime import datetime\n",
    "# from spectral_cube import SpectralCube\n",
    "# from imblearn.under_sampling import RandomUnderSampler"
   ]
  },
  {
   "cell_type": "code",
   "execution_count": 2,
   "metadata": {},
   "outputs": [],
   "source": [
    "freq_dict = {\"mask_1245mosB.fits\": [1401252439.970,1425092772.001],\n",
    "\"mask_1245mosC.fits\": [1381037599.970,1404877932.001],\n",
    "\"mask_1245mosD.fits\": [1360822751.970,1384663084.001],\n",
    "\"mask_1245mosE.fits\": [1340607911.970,1364448244.001],\n",
    "\"mask_1245mosF.fits\": [1320393067.970,1344233400.001],\n",
    "\"mask_1245mosG.fits\": [1300178221.970,1324018554.001],\n",
    "\"mask_1245mosH.fits\": [1279963378.910,1303803710.941],\n",
    "\"mask_1353mosB.fits\": [1401179199.970,1425019532.001],\n",
    "\"mask_1353mosC.fits\": [1380964351.970,1404804684.001],\n",
    "\"mask_1353mosD.fits\": [1360749511.970,1384589844.001],\n",
    "\n",
    "\"mask_1353mosE.fits\": [1340534667.970,1364375000.001],\n",
    "\"mask_1353mosF.fits\": [1320319823.970,1344160156.001],\n",
    "\"mask_1353mosG.fits\": [1300104979.970,1323945312.001],\n",
    "\"mask_1353mosH.fits\": [1279890136.720,1303730468.751]}\n",
    "freq_df = pd.DataFrame(freq_dict.values(), columns=[\"freq_1\", \"freq_2\"])\n",
    "freq_df[\"file_names\"] = freq_dict.keys()\n",
    "freq_df[\"freq_1_round\"] = np.round(freq_df['freq_1']*1e-6).astype(int).astype(str)\n",
    "freq_df[\"freq_2_round\"] = np.round(freq_df['freq_2']*1e-6).astype(int).astype(str)\n",
    "freq_df['freq_labels'] = freq_df[['freq_1_round', 'freq_2_round']].agg('-'.join, axis=1)\n",
    "freq_df.columns = freq_df.columns.map(''.join)\n",
    "freq_df['mos_name'] = freq_df.file_names.str.replace(\"mask_\", \"\").str.replace(\".fits\", \"\")"
   ]
  },
  {
   "cell_type": "code",
   "execution_count": 4,
   "metadata": {},
   "outputs": [],
   "source": [
    "real_cat_df = pd.DataFrame()\n",
    "for file in listdir(\"../../results/catalogs/ground_truth\"):\n",
    "    if \"properties\"in file:\n",
    "        temp_df = pd.read_csv(f\"../../results/catalogs/ground_truth/{file}\", index_col=0)\n",
    "        temp_df[\"mos_name\"] = file.split(\"_\")[0]\n",
    "        temp_df = temp_df.reset_index()\n",
    "        real_cat_df = real_cat_df.append(temp_df)\n",
    "real_cat_df = real_cat_df.reset_index(drop=True)\n",
    "real_cat_df[\"z_pos\"] = ((real_cat_df[\"bbox-3\"]+ real_cat_df[\"bbox-0\"])/2).astype(int)\n",
    "real_cat_df[\"x_pos\"] = ((real_cat_df[\"bbox-4\"]+ real_cat_df[\"bbox-1\"])/2).astype(int)\n",
    "real_cat_df[\"y_pos\"] = ((real_cat_df[\"bbox-5\"]+ real_cat_df[\"bbox-2\"])/2).astype(int)\n",
    "real_cat_df[real_cat_df.type == \"real\"].to_csv(\"../../results/catalogs/REAL_catalog.txt\")"
   ]
  },
  {
   "cell_type": "code",
   "execution_count": 5,
   "metadata": {},
   "outputs": [],
   "source": [
    "mos_names = [i.split(\"_\")[0] for i in listdir(\"../../results/catalogs/ground_truth\") if \"inserted\" in i]\n",
    "mock_galaxy_gt_df = pd.DataFrame()\n",
    "k = 0\n",
    "for mos_name in mos_names:\n",
    "    temp_df1 = pd.read_csv(f\"../../results/catalogs/ground_truth/{mos_name}_properties.csv\")\n",
    "    temp_df2 = pd.read_csv(f\"../../results/catalogs/ground_truth/{mos_name}_inserted.csv\")\n",
    "    temp_df1[\"z_pos\"] = ((temp_df1[\"bbox-3\"]+ temp_df1[\"bbox-0\"])/2).astype(int)\n",
    "    temp_df1[\"x_pos\"] = ((temp_df1[\"bbox-4\"]+ temp_df1[\"bbox-1\"])/2).astype(int)\n",
    "    temp_df1[\"y_pos\"] = ((temp_df1[\"bbox-5\"]+ temp_df1[\"bbox-2\"])/2).astype(int)\n",
    "    overlap_df = pd.merge(temp_df1[temp_df1.type=='mock'], temp_df2, on=[\"z_pos\", \"x_pos\", \"y_pos\"], how='outer', indicator=True)\n",
    "    left_only = overlap_df[overlap_df._merge == 'left_only']\n",
    "    right_only = overlap_df[overlap_df._merge == 'right_only']\n",
    "    both = overlap_df[overlap_df._merge == 'both'][overlap_df.columns[:-1]]\n",
    "    nearest_overlap_df = pd.DataFrame()\n",
    "    for i, row in right_only.iterrows():\n",
    "        distances = np.sqrt((left_only.z_pos-row.z_pos)**2 + (left_only.x_pos-row.x_pos)**2 + (left_only.y_pos-row.y_pos)**2)\n",
    "        mapped_row = left_only[distances == distances.min()][right_only.columns[:-8]]\n",
    "        joined_df = mapped_row.reset_index(drop=True).join(pd.DataFrame([row]).reset_index(drop=True)[[\"z_pos\", \"x_pos\", \"y_pos\", \"gal_file\", \"orig_mass\", \"new_mass\", \"mos_name\"]])\n",
    "        joined_df[\"overlap\"] = distances.min()\n",
    "        nearest_overlap_df = nearest_overlap_df.append(joined_df)\n",
    "    # Take closest if 2\n",
    "    nearest_overlap_df.loc[nearest_overlap_df.groupby('label')['overlap'].transform('min').eq(nearest_overlap_df['overlap'])].reset_index(drop=True)\n",
    "    nearest_overlap_df = nearest_overlap_df[nearest_overlap_df.columns[:-1]]\n",
    "    all_mapped_df = nearest_overlap_df.append(both).reset_index(drop=True)\n",
    "    all_mapped_df[\"mos_name\"] == mos_name\n",
    "    mock_galaxy_gt_df = mock_galaxy_gt_df.append(all_mapped_df)\n",
    "mock_galaxy_gt_df.to_csv(\"../../results/catalogs/MOCK_catalog.txt\")"
   ]
  },
  {
   "cell_type": "code",
   "execution_count": 87,
   "metadata": {},
   "outputs": [],
   "source": [
    "mock_cat_df = pd.read_csv(\"../../results/catalogs/MOCK_catalog.txt\", index_col=0)\n",
    "real_cat_df = pd.read_csv(\"../../results/catalogs/REAL_catalog.txt\", index_col=0)\n",
    "# mock_cat_df.append(real_cat_df).to_csv(\"../../results/catalogs/MASK_catalog.txt\")"
   ]
  },
  {
   "cell_type": "code",
   "execution_count": 92,
   "metadata": {},
   "outputs": [],
   "source": [
    "mto_cat_df = pd.read_csv(\"../../results/catalogs/MTO_catalog.txt\", index_col=0)\n",
    "vnet_cat_df = pd.read_csv(\"../../results/catalogs/VNET_catalog.txt\", index_col=0)\n",
    "sofia_cat_df = pd.read_csv(\"../../results/catalogs/SOFIA_catalog.txt\", index_col=0)\n",
    "mask_cat_df = pd.read_csv(\"../../results/catalogs/MASK_catalog.txt\", index_col=0)"
   ]
  },
  {
   "cell_type": "code",
   "execution_count": 93,
   "metadata": {},
   "outputs": [],
   "source": [
    "mto_cat_df[\"log10mass\"] = np.log10(mto_cat_df.hi_mass)\n",
    "vnet_cat_df[\"log10mass\"] = np.log10(vnet_cat_df.hi_mass)\n",
    "sofia_cat_df[\"log10mass\"] = np.log10(sofia_cat_df.hi_mass)\n",
    "# mask_cat_df[\"log10mass\"] = np.log10(mass_cat_df.new_mass)\n",
    "mto_cat_df[\"max_loc\"] = mto_cat_df.max_loc.apply(literal_eval)\n",
    "vnet_cat_df[\"max_loc\"] = vnet_cat_df.max_loc.apply(literal_eval)\n",
    "sofia_cat_df[\"max_loc\"] = sofia_cat_df.max_loc.apply(literal_eval)\n",
    "mask_cat_df[\"max_loc\"] = mask_cat_df.max_loc.apply(literal_eval)\n",
    "mto_cat_df[\"max_loc_dist\"] = mto_cat_df.max_loc.apply(lambda x: np.sqrt(x[0]**2 + x[1]**2 + x[2]**2))\n",
    "vnet_cat_df[\"max_loc_dist\"] = vnet_cat_df.max_loc.apply(lambda x: np.sqrt(x[0]**2 + x[1]**2 + x[2]**2))\n",
    "sofia_cat_df[\"max_loc_dist\"] = sofia_cat_df.max_loc.apply(lambda x: np.sqrt(x[0]**2 + x[1]**2 + x[2]**2))\n",
    "mask_cat_df[\"max_loc_dist\"] = mask_cat_df.max_loc.apply(lambda x: np.sqrt(x[0]**2 + x[1]**2 + x[2]**2))"
   ]
  },
  {
   "cell_type": "markdown",
   "metadata": {},
   "source": [
    "Real Galaxies:\n",
    "- V-Net is correct\n",
    "- SoFiA is +- 1/2 difference\n",
    "- MTO is +- 10 over\n",
    "\n",
    "Mock Galaxies:\n",
    "- All way under - not matching properly\n",
    "- try with area_gt and nearest max_loc"
   ]
  },
  {
   "cell_type": "code",
   "execution_count": 99,
   "metadata": {},
   "outputs": [],
   "source": [
    "mos_names = [i.split(\"_\")[0] for i in listdir(\"../../results/catalogs/ground_truth\") if \"inserted\" in i]\n",
    "def connect_detections_to_ground_truth(detection_catalogue, gt_catalgue, mos_names, types):\n",
    "    mapped_df = pd.DataFrame()\n",
    "    k = 0\n",
    "    for mos_name in mos_names:\n",
    "        overlap_df = pd.merge_asof(detection_catalogue[(detection_catalogue.type==types) & (detection_catalogue.mos_name == mos_name)].sort_values('max_loc_dist'), gt_catalgue[(gt_catalgue.type==types) & (gt_catalgue.mos_name == mos_name)].sort_values('max_loc_dist'), on=\"max_loc_dist\", suffixes=(\"_detection\", \"_mask\"), direction=\"nearest\")\n",
    "        mapped_df = mapped_df.append(overlap_df)\n",
    "    return mapped_df\n"
   ]
  },
  {
   "cell_type": "code",
   "execution_count": 112,
   "metadata": {},
   "outputs": [],
   "source": [
    "mto_mock_df = connect_detections_to_ground_truth(detection_catalogue=mto_cat_df, gt_catalgue=mask_cat_df, mos_names=mos_names, types=\"mock\")\n",
    "vnet_mock_df = connect_detections_to_ground_truth(detection_catalogue=vnet_cat_df, gt_catalgue=mask_cat_df, mos_names=mos_names, types=\"mock\")\n",
    "sofia_mock_df = connect_detections_to_ground_truth(detection_catalogue=sofia_cat_df, gt_catalgue=mask_cat_df, mos_names=mos_names, types=\"mock\")\n",
    "\n",
    "mto_real_df = connect_detections_to_ground_truth(detection_catalogue=mto_cat_df, gt_catalgue=mask_cat_df, mos_names=mos_names, types=\"real\")\n",
    "vnet_real_df = connect_detections_to_ground_truth(detection_catalogue=vnet_cat_df, gt_catalgue=mask_cat_df, mos_names=mos_names, types=\"real\")\n",
    "sofia_real_df = connect_detections_to_ground_truth(detection_catalogue=sofia_cat_df, gt_catalgue=mask_cat_df, mos_names=mos_names, types=\"real\")"
   ]
  },
  {
   "cell_type": "code",
   "execution_count": 113,
   "metadata": {
    "scrolled": true
   },
   "outputs": [
    {
     "data": {
      "text/plain": [
       "(618, 618, 68, 68)"
      ]
     },
     "execution_count": 113,
     "metadata": {},
     "output_type": "execute_result"
    }
   ],
   "source": [
    "len(mto_cat_df[(mto_cat_df.type == \"mock\")]), len(mto_mock_df), len(mto_cat_df[(mto_cat_df.type == \"real\")]), len(mto_real_df)"
   ]
  },
  {
   "cell_type": "code",
   "execution_count": 115,
   "metadata": {},
   "outputs": [
    {
     "data": {
      "text/plain": [
       "(1707, 1707, 137, 137)"
      ]
     },
     "execution_count": 115,
     "metadata": {},
     "output_type": "execute_result"
    }
   ],
   "source": [
    "len(vnet_cat_df[(vnet_cat_df.type == \"mock\")]), len(vnet_mock_df), len(vnet_cat_df[(vnet_cat_df.type == \"real\")]), len(vnet_real_df)"
   ]
  },
  {
   "cell_type": "code",
   "execution_count": 117,
   "metadata": {},
   "outputs": [
    {
     "data": {
      "text/plain": [
       "(1228, 1228, 194, 194)"
      ]
     },
     "execution_count": 117,
     "metadata": {},
     "output_type": "execute_result"
    }
   ],
   "source": [
    "len(sofia_cat_df[(sofia_cat_df.type == \"mock\")]), len(sofia_mock_df), len(sofia_cat_df[(sofia_cat_df.type == \"real\")]), len(sofia_real_df)"
   ]
  },
  {
   "cell_type": "code",
   "execution_count": null,
   "metadata": {},
   "outputs": [],
   "source": []
  }
 ],
 "metadata": {
  "kernelspec": {
   "display_name": "Python 3",
   "language": "python",
   "name": "python3"
  },
  "language_info": {
   "codemirror_mode": {
    "name": "ipython",
    "version": 3
   },
   "file_extension": ".py",
   "mimetype": "text/x-python",
   "name": "python",
   "nbconvert_exporter": "python",
   "pygments_lexer": "ipython3",
   "version": "3.8.3"
  }
 },
 "nbformat": 4,
 "nbformat_minor": 4
}
